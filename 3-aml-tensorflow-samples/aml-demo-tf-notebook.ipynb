{
 "cells": [
  {
   "cell_type": "markdown",
   "id": "ab8c8a77",
   "metadata": {},
   "source": [
    "# Dataset Download"
   ]
  },
  {
   "cell_type": "code",
   "execution_count": 1,
   "id": "e1553351",
   "metadata": {},
   "outputs": [],
   "source": [
    "import os\n",
    "import urllib.request"
   ]
  },
  {
   "cell_type": "code",
   "execution_count": 2,
   "id": "3e3dc97b",
   "metadata": {},
   "outputs": [],
   "source": [
    "DATA_FOLDER = os.path.join(os.getcwd(), 'datasets/mnist-data')\n",
    "DATASET_BASE_URL = 'https://azureopendatastorage.blob.core.windows.net/mnist/'\n",
    "os.makedirs(DATA_FOLDER, exist_ok=True)"
   ]
  },
  {
   "cell_type": "code",
   "execution_count": 3,
   "id": "d0bbb54e",
   "metadata": {},
   "outputs": [
    {
     "data": {
      "text/plain": [
       "('/mnt/batch/tasks/shared/LS_root/mounts/clusters/demo-ws-computeinst/code/datasets/mnist-data/test-labels.gz',\n",
       " <http.client.HTTPMessage at 0x7fda77435be0>)"
      ]
     },
     "execution_count": 3,
     "metadata": {},
     "output_type": "execute_result"
    }
   ],
   "source": [
    "urllib.request.urlretrieve(\n",
    "    os.path.join(DATASET_BASE_URL, 'train-images-idx3-ubyte.gz'),\n",
    "    filename=os.path.join(DATA_FOLDER, 'train-images.gz'))\n",
    "urllib.request.urlretrieve(\n",
    "    os.path.join(DATASET_BASE_URL, 'train-labels-idx1-ubyte.gz'),\n",
    "    filename=os.path.join(DATA_FOLDER, 'train-labels.gz'))\n",
    "urllib.request.urlretrieve(\n",
    "    os.path.join(DATASET_BASE_URL, 't10k-images-idx3-ubyte.gz'),\n",
    "    filename=os.path.join(DATA_FOLDER, 'test-images.gz'))\n",
    "urllib.request.urlretrieve(\n",
    "    os.path.join(DATASET_BASE_URL, 't10k-labels-idx1-ubyte.gz'),\n",
    "    filename=os.path.join(DATA_FOLDER, 'test-labels.gz'))"
   ]
  },
  {
   "cell_type": "markdown",
   "id": "758f7c0b",
   "metadata": {},
   "source": [
    "# Dataset Load and Exploration"
   ]
  },
  {
   "cell_type": "code",
   "execution_count": 4,
   "id": "d476aaa5",
   "metadata": {},
   "outputs": [],
   "source": [
    "import gzip\n",
    "import struct\n",
    "import numpy as np"
   ]
  },
  {
   "cell_type": "code",
   "execution_count": 5,
   "id": "0d2ecb0e",
   "metadata": {},
   "outputs": [],
   "source": [
    "def load_dataset(dataset_path):\n",
    "    def unpack_mnist_data(filename: str, label=False):\n",
    "        with gzip.open(filename) as gz:\n",
    "            struct.unpack('I', gz.read(4))\n",
    "            n_items = struct.unpack('>I', gz.read(4))\n",
    "            if not label:\n",
    "                n_rows = struct.unpack('>I', gz.read(4))[0]\n",
    "                n_cols = struct.unpack('>I', gz.read(4))[0]\n",
    "                res = np.frombuffer(gz.read(n_items[0] * n_rows * n_cols), dtype=np.uint8)\n",
    "                res = res.reshape(n_items[0], n_rows * n_cols) / 255.0\n",
    "            else:\n",
    "                res = np.frombuffer(gz.read(n_items[0]), dtype=np.uint8)\n",
    "                res = res.reshape(-1)\n",
    "        return res\n",
    "    \n",
    "    X_train = unpack_mnist_data(os.path.join(dataset_path, 'train-images.gz'), False)\n",
    "    y_train = unpack_mnist_data(os.path.join(dataset_path, 'train-labels.gz'), True)\n",
    "    X_test = unpack_mnist_data(os.path.join(dataset_path, 'test-images.gz'), False)\n",
    "    y_test = unpack_mnist_data(os.path.join(dataset_path, 'test-labels.gz'), True)\n",
    "\n",
    "    return X_train.reshape(-1,28,28,1), y_train, X_test.reshape(-1,28,28,1), y_test"
   ]
  },
  {
   "cell_type": "code",
   "execution_count": 6,
   "id": "ccbb0735",
   "metadata": {},
   "outputs": [],
   "source": [
    "X_train, y_train, X_test, y_test = load_dataset(DATA_FOLDER)"
   ]
  },
  {
   "cell_type": "code",
   "execution_count": 7,
   "id": "b0ff4923",
   "metadata": {},
   "outputs": [
    {
     "name": "stdout",
     "output_type": "stream",
     "text": [
      "(60000, 28, 28, 1)\n"
     ]
    }
   ],
   "source": [
    "print(X_train.shape)"
   ]
  },
  {
   "cell_type": "code",
   "execution_count": 8,
   "id": "c2fd1bd6",
   "metadata": {},
   "outputs": [],
   "source": [
    "import matplotlib.pyplot as plt"
   ]
  },
  {
   "cell_type": "code",
   "execution_count": 9,
   "id": "8a785f75",
   "metadata": {},
   "outputs": [],
   "source": [
    "def show_images(images, labels):\n",
    "    images_cnt = len(images)\n",
    "    assert images_cnt <= 10, f\"Number of images cannot exceed 10. The provided list has {images_cnt} elements.\"\n",
    "    assert images_cnt == len(labels), f\"Number of images ({images_cnt}) should be equal to number of labels ({len(labels)})\"\n",
    "    f, axarr = plt.subplots(nrows=1, ncols=images_cnt, figsize=(16,16))\n",
    "    for idx in range(images_cnt):\n",
    "        img = images[idx]\n",
    "        lab = labels[idx]\n",
    "        axarr[idx].imshow(img, cmap='gray_r')\n",
    "        axarr[idx].title.set_text(lab)\n",
    "        axarr[idx].axis('off')\n",
    "\n",
    "    plt.show()    "
   ]
  },
  {
   "cell_type": "code",
   "execution_count": 10,
   "id": "4d8d31cd",
   "metadata": {},
   "outputs": [
    {
     "data": {
      "image/png": "[encoded data removed]",
      "text/plain": [
       "<Figure size 1152x1152 with 10 Axes>"
      ]
     },
     "metadata": {
      "needs_background": "light"
     },
     "output_type": "display_data"
    }
   ],
   "source": [
    "show_images(X_train[:10], y_train[:10])"
   ]
  },
  {
   "cell_type": "markdown",
   "id": "288c10eb",
   "metadata": {},
   "source": [
    "# TensorFlow Model"
   ]
  },
  {
   "cell_type": "code",
   "execution_count": 11,
   "id": "c108f571",
   "metadata": {},
   "outputs": [],
   "source": [
    "import tensorflow as tf"
   ]
  },
  {
   "cell_type": "code",
   "execution_count": 12,
   "id": "712d9a70",
   "metadata": {},
   "outputs": [],
   "source": [
    "def create_tf_model():\n",
    "    model = tf.keras.models.Sequential(\n",
    "        [\n",
    "            tf.keras.layers.Conv2D(filters=10, kernel_size=5, input_shape=(28,28,1), activation='relu'),\n",
    "            tf.keras.layers.MaxPool2D(pool_size=(2,2)),\n",
    "            tf.keras.layers.Conv2D(filters=20, kernel_size=5, activation='relu'),\n",
    "            tf.keras.layers.Dropout(rate=0.2),\n",
    "            tf.keras.layers.MaxPool2D(pool_size=(2,2)),\n",
    "            tf.keras.layers.Flatten(),\n",
    "            tf.keras.layers.Dense(320, activation='relu'),\n",
    "            tf.keras.layers.Dense(50, activation='relu'),\n",
    "            tf.keras.layers.Dropout(0.2),\n",
    "            tf.keras.layers.Dense(10, activation='relu')\n",
    "        ]\n",
    "    )\n",
    "    \n",
    "    return model"
   ]
  },
  {
   "cell_type": "code",
   "execution_count": 13,
   "id": "f23db859",
   "metadata": {},
   "outputs": [],
   "source": [
    "model = create_tf_model()"
   ]
  },
  {
   "cell_type": "code",
   "execution_count": 14,
   "id": "c0edd081",
   "metadata": {},
   "outputs": [],
   "source": [
    "model.build()"
   ]
  },
  {
   "cell_type": "code",
   "execution_count": 15,
   "id": "848081ef",
   "metadata": {},
   "outputs": [
    {
     "name": "stdout",
     "output_type": "stream",
     "text": [
      "Model: \"sequential\"\n",
      "_________________________________________________________________\n",
      "Layer (type)                 Output Shape              Param #   \n",
      "=================================================================\n",
      "conv2d (Conv2D)              (None, 24, 24, 10)        260       \n",
      "_________________________________________________________________\n",
      "max_pooling2d (MaxPooling2D) (None, 12, 12, 10)        0         \n",
      "_________________________________________________________________\n",
      "conv2d_1 (Conv2D)            (None, 8, 8, 20)          5020      \n",
      "_________________________________________________________________\n",
      "dropout (Dropout)            (None, 8, 8, 20)          0         \n",
      "_________________________________________________________________\n",
      "max_pooling2d_1 (MaxPooling2 (None, 4, 4, 20)          0         \n",
      "_________________________________________________________________\n",
      "flatten (Flatten)            (None, 320)               0         \n",
      "_________________________________________________________________\n",
      "dense (Dense)                (None, 320)               102720    \n",
      "_________________________________________________________________\n",
      "dense_1 (Dense)              (None, 50)                16050     \n",
      "_________________________________________________________________\n",
      "dropout_1 (Dropout)          (None, 50)                0         \n",
      "_________________________________________________________________\n",
      "dense_2 (Dense)              (None, 10)                510       \n",
      "=================================================================\n",
      "Total params: 124,560\n",
      "Trainable params: 124,560\n",
      "Non-trainable params: 0\n",
      "_________________________________________________________________\n"
     ]
    }
   ],
   "source": [
    "model.summary()"
   ]
  },
  {
   "cell_type": "code",
   "execution_count": 16,
   "id": "ca712a18",
   "metadata": {},
   "outputs": [],
   "source": [
    "loss_fn = tf.keras.losses.SparseCategoricalCrossentropy(from_logits=True)"
   ]
  },
  {
   "cell_type": "code",
   "execution_count": 17,
   "id": "8e51eaf2",
   "metadata": {},
   "outputs": [],
   "source": [
    "model.compile(optimizer=\"adam\", loss=loss_fn, metrics=[\"accuracy\"])"
   ]
  },
  {
   "cell_type": "markdown",
   "id": "9100cc7e",
   "metadata": {},
   "source": [
    "# Prepare Azure ML Experiment"
   ]
  },
  {
   "cell_type": "code",
   "execution_count": 18,
   "id": "1f1227fb",
   "metadata": {},
   "outputs": [],
   "source": [
    "from azureml.core import Workspace, Experiment\n",
    "import mlflow, mlflow.tensorflow"
   ]
  },
  {
   "cell_type": "code",
   "execution_count": 19,
   "id": "db8c84d7",
   "metadata": {},
   "outputs": [],
   "source": [
    "SUBSCRIPTION=\"<your-subscription-id>\"\n",
    "GROUP=\"azureml-rg\"\n",
    "WORKSPACE=\"demo-ws\""
   ]
  },
  {
   "cell_type": "code",
   "execution_count": 20,
   "id": "824686cd",
   "metadata": {},
   "outputs": [],
   "source": [
    "ws = Workspace(\n",
    "    subscription_id=SUBSCRIPTION,\n",
    "    resource_group=GROUP,\n",
    "    workspace_name=WORKSPACE,\n",
    ")\n",
    "experiment = Experiment(ws, \"aml-demo-tf-notebook-training\")"
   ]
  },
  {
   "cell_type": "code",
   "execution_count": 21,
   "id": "02b45305",
   "metadata": {},
   "outputs": [],
   "source": [
    "mlflow.set_tracking_uri(ws.get_mlflow_tracking_uri())\n",
    "mlflow.start_run(experiment_id=experiment.id)\n",
    "mlflow.tensorflow.autolog()"
   ]
  },
  {
   "cell_type": "markdown",
   "id": "b8c873e5",
   "metadata": {},
   "source": [
    "# Start Training"
   ]
  },
  {
   "cell_type": "code",
   "execution_count": 22,
   "id": "08e5978f",
   "metadata": {},
   "outputs": [],
   "source": [
    "tf.random.set_seed(101)"
   ]
  },
  {
   "cell_type": "code",
   "execution_count": 23,
   "id": "4a427914",
   "metadata": {},
   "outputs": [
    {
     "name": "stdout",
     "output_type": "stream",
     "text": [
      "Epoch 1/5\n",
      "1875/1875 [==============================] - 21s 11ms/step - loss: 0.2171 - accuracy: 0.9342\n",
      "Epoch 2/5\n",
      "1875/1875 [==============================] - 21s 11ms/step - loss: 0.0705 - accuracy: 0.9794\n",
      "Epoch 3/5\n",
      "1875/1875 [==============================] - 20s 11ms/step - loss: 0.0536 - accuracy: 0.9851\n",
      "Epoch 4/5\n",
      "1875/1875 [==============================] - 20s 11ms/step - loss: 0.0399 - accuracy: 0.9884\n",
      "Epoch 5/5\n",
      "1875/1875 [==============================] - 20s 11ms/step - loss: 0.0360 - accuracy: 0.9897\n",
      "INFO:tensorflow:Assets written to: /tmp/tmpdxskcjgd/model/data/model/assets\n"
     ]
    },
    {
     "data": {
      "text/plain": [
       "<keras.callbacks.History at 0x7fd9da62f2b0>"
      ]
     },
     "execution_count": 23,
     "metadata": {},
     "output_type": "execute_result"
    }
   ],
   "source": [
    "model.fit(X_train, y_train, epochs=5)"
   ]
  },
  {
   "cell_type": "code",
   "execution_count": 24,
   "id": "40dfe3a1",
   "metadata": {},
   "outputs": [],
   "source": [
    "mlflow.end_run()"
   ]
  },
  {
   "cell_type": "markdown",
   "id": "ee44e237",
   "metadata": {},
   "source": [
    "# Model Evaluation and Registration in AzureML"
   ]
  },
  {
   "cell_type": "code",
   "execution_count": 25,
   "id": "3677dbac",
   "metadata": {},
   "outputs": [
    {
     "name": "stdout",
     "output_type": "stream",
     "text": [
      "313/313 [==============================] - 1s 4ms/step - loss: 0.0451 - accuracy: 0.9864\n"
     ]
    },
    {
     "data": {
      "text/plain": [
       "[0.04506488889455795, 0.9864000082015991]"
      ]
     },
     "execution_count": 25,
     "metadata": {},
     "output_type": "execute_result"
    }
   ],
   "source": [
    "model.evaluate(X_test, y_test)"
   ]
  },
  {
   "cell_type": "code",
   "execution_count": 26,
   "id": "f13ca4ed",
   "metadata": {},
   "outputs": [],
   "source": [
    "model.save('mnist-tf-model.h5')"
   ]
  },
  {
   "cell_type": "code",
   "execution_count": 27,
   "id": "29d77b4f",
   "metadata": {},
   "outputs": [],
   "source": [
    "from azureml.core.model import Model"
   ]
  },
  {
   "cell_type": "code",
   "execution_count": 28,
   "id": "a19e52e7",
   "metadata": {},
   "outputs": [
    {
     "name": "stdout",
     "output_type": "stream",
     "text": [
      "Registering model mnist-tf-model\n"
     ]
    }
   ],
   "source": [
    "registered_model = Model.register(\n",
    "    workspace=ws,\n",
    "    model_name='mnist-tf-model',\n",
    "    model_path='mnist-tf-model.h5',\n",
    "    model_framework=Model.Framework.TENSORFLOW,\n",
    "    model_framework_version=tf.__version__)"
   ]
  },
  {
   "cell_type": "code",
   "execution_count": 29,
   "id": "b91a6750",
   "metadata": {},
   "outputs": [
    {
     "data": {
      "text/plain": [
       "Model(workspace=Workspace.create(name='demo-ws', subscription_id='aa0c9c06-de93-4fbf-a84b-642425935e77', resource_group='azureml-rg'), name=mnist-tf-model, id=mnist-tf-model:5, version=5, tags={}, properties={})"
      ]
     },
     "execution_count": 29,
     "metadata": {},
     "output_type": "execute_result"
    }
   ],
   "source": [
    "registered_model"
   ]
  },
  {
   "cell_type": "markdown",
   "id": "6b67e6f3",
   "metadata": {},
   "source": [
    "# Load Registered Model"
   ]
  },
  {
   "cell_type": "code",
   "execution_count": 30,
   "id": "58e8a9f1",
   "metadata": {},
   "outputs": [],
   "source": [
    "aml_model = Model(workspace=ws, name='mnist-tf-model', version=registered_model.version)"
   ]
  },
  {
   "cell_type": "code",
   "execution_count": 31,
   "id": "553eecfc",
   "metadata": {},
   "outputs": [
    {
     "name": "stdout",
     "output_type": "stream",
     "text": [
      "mnist-tf-model.h5\n"
     ]
    }
   ],
   "source": [
    "downloaded_model_filename = aml_model.download(exist_ok=True)\n",
    "print(downloaded_model_filename)"
   ]
  },
  {
   "cell_type": "code",
   "execution_count": 32,
   "id": "3c6c9a5b",
   "metadata": {},
   "outputs": [],
   "source": [
    "downloaded_model = tf.keras.models.load_model(downloaded_model_filename)"
   ]
  },
  {
   "cell_type": "code",
   "execution_count": 33,
   "id": "3b356ebc",
   "metadata": {},
   "outputs": [
    {
     "name": "stdout",
     "output_type": "stream",
     "text": [
      "Model: \"sequential\"\n",
      "_________________________________________________________________\n",
      "Layer (type)                 Output Shape              Param #   \n",
      "=================================================================\n",
      "conv2d (Conv2D)              (None, 24, 24, 10)        260       \n",
      "_________________________________________________________________\n",
      "max_pooling2d (MaxPooling2D) (None, 12, 12, 10)        0         \n",
      "_________________________________________________________________\n",
      "conv2d_1 (Conv2D)            (None, 8, 8, 20)          5020      \n",
      "_________________________________________________________________\n",
      "dropout (Dropout)            (None, 8, 8, 20)          0         \n",
      "_________________________________________________________________\n",
      "max_pooling2d_1 (MaxPooling2 (None, 4, 4, 20)          0         \n",
      "_________________________________________________________________\n",
      "flatten (Flatten)            (None, 320)               0         \n",
      "_________________________________________________________________\n",
      "dense (Dense)                (None, 320)               102720    \n",
      "_________________________________________________________________\n",
      "dense_1 (Dense)              (None, 50)                16050     \n",
      "_________________________________________________________________\n",
      "dropout_1 (Dropout)          (None, 50)                0         \n",
      "_________________________________________________________________\n",
      "dense_2 (Dense)              (None, 10)                510       \n",
      "=================================================================\n",
      "Total params: 124,560\n",
      "Trainable params: 124,560\n",
      "Non-trainable params: 0\n",
      "_________________________________________________________________\n"
     ]
    }
   ],
   "source": [
    "downloaded_model.summary()"
   ]
  },
  {
   "cell_type": "markdown",
   "id": "2bf7f6f8",
   "metadata": {},
   "source": [
    "# Evaluate Loaded Model"
   ]
  },
  {
   "cell_type": "code",
   "execution_count": 34,
   "id": "9c767641",
   "metadata": {},
   "outputs": [],
   "source": [
    "preds = downloaded_model.predict(X_test).argmax(axis=1)"
   ]
  },
  {
   "cell_type": "code",
   "execution_count": 35,
   "id": "64903331",
   "metadata": {},
   "outputs": [
    {
     "name": "stdout",
     "output_type": "stream",
     "text": [
      "[7 2 1 ... 4 5 6]\n",
      "[7 2 1 ... 4 5 6]\n"
     ]
    }
   ],
   "source": [
    "print(preds)\n",
    "print(y_test)"
   ]
  },
  {
   "cell_type": "code",
   "execution_count": 36,
   "id": "6dba1638",
   "metadata": {},
   "outputs": [
    {
     "data": {
      "image/png": "[encoded data removed]",
      "text/plain": [
       "<Figure size 1152x1152 with 10 Axes>"
      ]
     },
     "metadata": {
      "needs_background": "light"
     },
     "output_type": "display_data"
    }
   ],
   "source": [
    "show_images(X_test[:10], preds[:10])"
   ]
  },
  {
   "cell_type": "code",
   "execution_count": 37,
   "id": "686ffa93",
   "metadata": {},
   "outputs": [],
   "source": [
    "from sklearn.metrics import accuracy_score"
   ]
  },
  {
   "cell_type": "code",
   "execution_count": 38,
   "id": "d2a884ee",
   "metadata": {},
   "outputs": [
    {
     "data": {
      "text/plain": [
       "0.9864"
      ]
     },
     "execution_count": 38,
     "metadata": {},
     "output_type": "execute_result"
    }
   ],
   "source": [
    "accuracy_score(y_test, preds)"
   ]
  },
  {
   "cell_type": "code",
   "execution_count": 39,
   "id": "191699e5",
   "metadata": {},
   "outputs": [
    {
     "name": "stdout",
     "output_type": "stream",
     "text": [
      "313/313 [==============================] - 1s 4ms/step - loss: 0.0451 - accuracy: 0.9864\n"
     ]
    },
    {
     "data": {
      "text/plain": [
       "[0.04506488889455795, 0.9864000082015991]"
      ]
     },
     "execution_count": 39,
     "metadata": {},
     "output_type": "execute_result"
    }
   ],
   "source": [
    "downloaded_model.evaluate(X_test, y_test)"
   ]
  },
  {
   "cell_type": "code",
   "execution_count": null,
   "id": "b2057a50",
   "metadata": {},
   "outputs": [],
   "source": []
  }
 ],
 "metadata": {
  "kernelspec": {
   "display_name": "Python 3.8 - Tensorflow",
   "language": "python",
   "name": "azureml_py38_tensorflow"
  },
  "language_info": {
   "codemirror_mode": {
    "name": "ipython",
    "version": 3
   },
   "file_extension": ".py",
   "mimetype": "text/x-python",
   "name": "python",
   "nbconvert_exporter": "python",
   "pygments_lexer": "ipython3",
   "version": "3.8.1"
  }
 },
 "nbformat": 4,
 "nbformat_minor": 5
}
